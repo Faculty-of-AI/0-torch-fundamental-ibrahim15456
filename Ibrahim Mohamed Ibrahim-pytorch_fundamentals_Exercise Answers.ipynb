{
 "cells": [
  {
   "cell_type": "markdown",
   "id": "5e74cc4b",
   "metadata": {},
   "source": [
    "# 1-Create random tensor with shape (7, 7)"
   ]
  },
  {
   "cell_type": "code",
   "execution_count": null,
   "id": "c642fea5",
   "metadata": {},
   "outputs": [
    {
     "name": "stdout",
     "output_type": "stream",
     "text": [
      "tensor([[0.8549, 0.5509, 0.2868, 0.2063, 0.4451, 0.3593, 0.7204],\n",
      "        [0.0731, 0.9699, 0.1078, 0.8829, 0.4132, 0.7572, 0.6948],\n",
      "        [0.5209, 0.5932, 0.8797, 0.6286, 0.7653, 0.1132, 0.8559],\n",
      "        [0.6721, 0.6267, 0.5691, 0.7437, 0.9592, 0.3887, 0.2214],\n",
      "        [0.3742, 0.1953, 0.7405, 0.2529, 0.2332, 0.9314, 0.9575],\n",
      "        [0.5575, 0.4134, 0.4355, 0.7369, 0.0331, 0.0914, 0.8994],\n",
      "        [0.9936, 0.4703, 0.1049, 0.5137, 0.2674, 0.4990, 0.7447]])\n"
     ]
    }
   ],
   "source": [
    "import torch\n",
    "tensor_A = torch.rand(7, 7)\n",
    "print(tensor_A)"
   ]
  },
  {
   "cell_type": "markdown",
   "id": "ff9fd694",
   "metadata": {},
   "source": [
    "# 2-Perform matrix multiplication"
   ]
  },
  {
   "cell_type": "code",
   "execution_count": 12,
   "id": "8ebe77c0",
   "metadata": {},
   "outputs": [
    {
     "name": "stdout",
     "output_type": "stream",
     "text": [
      "tensor([[1.6914],\n",
      "        [1.7581],\n",
      "        [2.0906],\n",
      "        [1.8975],\n",
      "        [1.7585],\n",
      "        [1.7961],\n",
      "        [1.8900]])\n",
      "torch.Size([7, 1])\n"
     ]
    }
   ],
   "source": [
    "# Create another random tensor with shape (1, 7)\n",
    "tensor_B = torch.rand(1, 7)\n",
    "\n",
    "# Transpose tensor_B to make it (7, 1)\n",
    "tensor_B_T = tensor_B.T\n",
    "\n",
    "# Perform matrix multiplication\n",
    "result = torch.matmul(tensor_A, tensor_B_T)\n",
    "print(result)\n",
    "print(result.shape)  # (7, 1)\n"
   ]
  },
  {
   "cell_type": "code",
   "execution_count": 13,
   "id": "0fe8c853",
   "metadata": {},
   "outputs": [
    {
     "name": "stdout",
     "output_type": "stream",
     "text": [
      "tensor([[1.8542],\n",
      "        [1.9611],\n",
      "        [2.2884],\n",
      "        [3.0481],\n",
      "        [1.7067],\n",
      "        [2.5290],\n",
      "        [1.7989]])\n",
      "torch.Size([7, 1])\n"
     ]
    }
   ],
   "source": [
    "import torch\n",
    "\n",
    "# Set manual seed\n",
    "torch.manual_seed(0)\n",
    "\n",
    "# Create two random tensors\n",
    "tensor_A = torch.rand(7, 7)\n",
    "tensor_B = torch.rand(1, 7)\n",
    "\n",
    "# Transpose tensor_B to (7, 1)\n",
    "tensor_B_T = tensor_B.T\n",
    "\n",
    "# Matrix multiply tensors\n",
    "result = torch.matmul(tensor_A, tensor_B_T)\n",
    "print(result)\n",
    "print(result.shape)\n"
   ]
  },
  {
   "cell_type": "code",
   "execution_count": 14,
   "id": "01f363ca",
   "metadata": {},
   "outputs": [],
   "source": [
    "# Set random seed on the GPU\n",
    "torch.cuda.manual_seed(1234)\n"
   ]
  },
  {
   "cell_type": "markdown",
   "id": "ac7770bb",
   "metadata": {},
   "source": [
    "# 3-Create two random tensors of shape (2, 3) and send them to GPU"
   ]
  },
  {
   "cell_type": "code",
   "execution_count": 15,
   "id": "1de7c908",
   "metadata": {},
   "outputs": [
    {
     "name": "stdout",
     "output_type": "stream",
     "text": [
      "Device: cpu\n",
      "tensor([[0.0290, 0.4019, 0.2598],\n",
      "        [0.3666, 0.0583, 0.7006]])\n",
      "tensor([[0.0518, 0.4681, 0.6738],\n",
      "        [0.3315, 0.7837, 0.5631]])\n"
     ]
    }
   ],
   "source": [
    "import torch\n",
    "\n",
    "# Set random seed for reproducibility\n",
    "torch.manual_seed(1234)\n",
    "\n",
    "# Check if GPU is available\n",
    "device = \"cuda\" if torch.cuda.is_available() else \"cpu\"\n",
    "print(\"Device:\", device)\n",
    "\n",
    "# Create two random tensors of shape (2, 3) and send them to GPU\n",
    "tensor_A = torch.rand(2, 3, device=device)\n",
    "tensor_B = torch.rand(2, 3, device=device)\n",
    "\n",
    "print(tensor_A)\n",
    "print(tensor_B)\n"
   ]
  },
  {
   "cell_type": "markdown",
   "id": "f9a56f09",
   "metadata": {},
   "source": [
    "# 4- Perform matrix multiplication"
   ]
  },
  {
   "cell_type": "code",
   "execution_count": 16,
   "id": "11254e9f",
   "metadata": {},
   "outputs": [
    {
     "name": "stdout",
     "output_type": "stream",
     "text": [
      "tensor([[0.3647, 0.4709],\n",
      "        [0.5184, 0.5617]])\n",
      "torch.Size([2, 2])\n"
     ]
    }
   ],
   "source": [
    "# Perform matrix multiplication\n",
    "result = torch.matmul(tensor_A, tensor_B.T)\n",
    "\n",
    "print(result)\n",
    "print(result.shape)\n"
   ]
  },
  {
   "cell_type": "markdown",
   "id": "99b929a5",
   "metadata": {},
   "source": [
    "# 5-Find max and min values in the tensors"
   ]
  },
  {
   "cell_type": "code",
   "execution_count": 17,
   "id": "f9105dbb",
   "metadata": {},
   "outputs": [
    {
     "name": "stdout",
     "output_type": "stream",
     "text": [
      "Max value: tensor(0.7006)\n",
      "Min value: tensor(0.0518)\n"
     ]
    }
   ],
   "source": [
    "# Find max and min values in the tensors\n",
    "max_val = tensor_A.max()\n",
    "min_val = tensor_B.min()\n",
    "\n",
    "print(\"Max value:\", max_val)\n",
    "print(\"Min value:\", min_val)\n"
   ]
  },
  {
   "cell_type": "markdown",
   "id": "c8648546",
   "metadata": {},
   "source": [
    "# 6-Find index of max & min"
   ]
  },
  {
   "cell_type": "code",
   "execution_count": 18,
   "id": "8b7ca4d3",
   "metadata": {},
   "outputs": [
    {
     "name": "stdout",
     "output_type": "stream",
     "text": [
      "Index of max value: tensor(5)\n",
      "Index of min value: tensor(0)\n"
     ]
    }
   ],
   "source": [
    "# Find index of max\n",
    "max_idx = tensor_A.argmax()\n",
    "\n",
    "# Find index of min\n",
    "min_idx = tensor_B.argmin()\n",
    "\n",
    "print(\"Index of max value:\", max_idx)\n",
    "print(\"Index of min value:\", min_idx)\n"
   ]
  },
  {
   "cell_type": "markdown",
   "id": "5e19551b",
   "metadata": {},
   "source": [
    "#  7-Remove single dimensions"
   ]
  },
  {
   "cell_type": "code",
   "execution_count": 19,
   "id": "7b9df609",
   "metadata": {},
   "outputs": [
    {
     "name": "stdout",
     "output_type": "stream",
     "text": [
      "tensor([[[[0.5349, 0.1988, 0.6592, 0.6569, 0.2328, 0.4251, 0.2071, 0.6297,\n",
      "           0.3653, 0.8513]]]]) torch.Size([1, 1, 1, 10])\n",
      "tensor([0.5349, 0.1988, 0.6592, 0.6569, 0.2328, 0.4251, 0.2071, 0.6297, 0.3653,\n",
      "        0.8513]) torch.Size([10])\n"
     ]
    }
   ],
   "source": [
    "import torch\n",
    "\n",
    "# Set seed\n",
    "torch.manual_seed(7)\n",
    "\n",
    "# Create random tensor\n",
    "tensor = torch.rand((1, 1, 1, 10))\n",
    "\n",
    "print(tensor, tensor.shape)\n",
    "\n",
    "# Remove single dimensions\n",
    "tensor_squeezed = tensor.squeeze()\n",
    "\n",
    "print(tensor_squeezed, tensor_squeezed.shape)\n"
   ]
  }
 ],
 "metadata": {
  "kernelspec": {
   "display_name": "base",
   "language": "python",
   "name": "python3"
  },
  "language_info": {
   "codemirror_mode": {
    "name": "ipython",
    "version": 3
   },
   "file_extension": ".py",
   "mimetype": "text/x-python",
   "name": "python",
   "nbconvert_exporter": "python",
   "pygments_lexer": "ipython3",
   "version": "3.9.12"
  }
 },
 "nbformat": 4,
 "nbformat_minor": 5
}
